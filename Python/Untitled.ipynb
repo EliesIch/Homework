{
 "cells": [
  {
   "cell_type": "code",
   "execution_count": null,
   "metadata": {},
   "outputs": [],
   "source": [
    "import numpy as np\n",
    "# from math import sin, cos\n",
    "from scipy.integrate import odeint\n",
    "from matplotlib import cm\n",
    "import matplotlib.pyplot as plt\n",
    "from mpl_toolkits.mplot3d import Axes3D\n",
    "\n",
    "M0 = 1\n",
    "def func(v, t, ga, om, H0, H1, T1, T2):\n",
    "    return [ga * (v[1] * H0 - v[2] * H1 * np.sin(om * t)) - v[0] / T2,\n",
    "    ga * (v[2] * H1 *np.cos(om * t) - v[0] * H0) - v[1] / T2,\n",
    "    ga * H1 * (v[0] *np.sin(om * t) - v[1] *np.cos(om * t)) - (v[2] - M0) / T1]\n",
    "ga, om, T1, T2 = 10 ** 11, 10 ** 9, 5 * 10 ** -10, 10 ** -10\n",
    "H0, H1 = 10 ** -2, 5 * 10 ** -1\n",
    "v0 = [0, 0, 1]\n",
    "t = np.arange(0, 10 ** -8, 10 ** -13)\n",
    "v = odeint(func, v0, t, args=(ga, om, H0, H1, T1, T2))\n",
    "\n",
    "fig = plt.figure()\n",
    "ax = fig.add_subplot(111, projection='3d')\n",
    "U = np.linspace(0, 2 * np.pi, 100)\n",
    "V = np.linspace(0, np.pi, 100)\n",
    "X = np.outer(np.cos(U), np.sin(V))\n",
    "Y = np.outer(np.sin(U), np.sin(V))\n",
    "Z = np.outer(np.ones(np.size(U)), np.cos(V))\n",
    "ax.plot_surface(X, Y, Z, cmap=cm.coolwarm, alpha = 0.5)\n",
    "\n",
    "ax = fig.gca(projection='3d')\n",
    "ax.plot(v[:, 0], v[:, 1], v[:, 2])\n",
    "ax.scatter3D(0, 0, 1,color='b')\n",
    "ax.scatter3D(v[-1,0], v[-1,1], v[-1,2],color='b')\n",
    "ax.set_xlabel('x(t)')\n",
    "ax.set_ylabel('y(t)')\n",
    "ax.set_zlabel('z(t)')"
   ]
  },
  {
   "cell_type": "code",
   "execution_count": null,
   "metadata": {},
   "outputs": [],
   "source": []
  }
 ],
 "metadata": {
  "kernelspec": {
   "display_name": "Python 3",
   "language": "python",
   "name": "python3"
  }
 },
 "nbformat": 4,
 "nbformat_minor": 4
}
